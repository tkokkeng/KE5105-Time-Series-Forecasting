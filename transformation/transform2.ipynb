{
 "cells": [
  {
   "cell_type": "markdown",
   "metadata": {
    "collapsed": true
   },
   "source": [
    "# KE5105 - Building Electrical Consumption Forecasting\n",
    "\n",
    "# Extract, Transform and Load Data 10 - Data Transformation\n",
    "\n",
    "## Transform all building data"
   ]
  },
  {
   "cell_type": "markdown",
   "metadata": {},
   "source": [
    "## Load libraries"
   ]
  },
  {
   "cell_type": "code",
   "execution_count": 1,
   "metadata": {},
   "outputs": [],
   "source": [
    "import myUtilities as mu\n",
    "import pickle"
   ]
  },
  {
   "cell_type": "markdown",
   "metadata": {},
   "source": [
    "## Load building lists"
   ]
  },
  {
   "cell_type": "code",
   "execution_count": 2,
   "metadata": {},
   "outputs": [
    {
     "data": {
      "text/plain": [
       "['AS4', 'AS5', 'CELS', 'E4', 'EA', 'MRB', 'S1A', 'SDE-1', 'SDE-2', 'SDE-3']"
      ]
     },
     "execution_count": 2,
     "metadata": {},
     "output_type": "execute_result"
    }
   ],
   "source": [
    "to_load_file = open('source/other_data/group1_bldg_list.pickle', 'rb')\n",
    "group1_bldgs = pickle.load(to_load_file)\n",
    "group1_bldgs.sort()\n",
    "group1_bldgs"
   ]
  },
  {
   "cell_type": "code",
   "execution_count": 3,
   "metadata": {},
   "outputs": [
    {
     "data": {
      "text/plain": [
       "['AS1',\n 'AS2',\n 'AS3',\n 'AS6',\n 'AS7',\n 'AS8',\n 'Alumni House',\n 'BIZ 2',\n 'Block B',\n 'Brenner Center of Molecular Medicine',\n 'CAPT',\n 'CELC',\n 'CJK Law Library',\n 'COM1',\n 'COM2',\n 'Central Library',\n 'Central Library Annex',\n 'Cinnamon',\n 'Computer Center',\n 'Create',\n 'Dentistry',\n 'E1',\n 'E1A',\n 'E2',\n 'E3',\n 'E3A',\n 'E4A',\n 'E5',\n 'EDIC',\n 'ERC',\n 'ETS Building',\n 'EW1',\n 'EW2',\n 'Eusoff Hall',\n 'Federal Building',\n 'Graduate Residence',\n 'HSE15',\n 'HSSML',\n 'I-Cube',\n 'ISS',\n 'KE 7 Hall',\n 'KR Hall',\n 'Kuok Foundation House',\n 'LKCNHM',\n 'Li Ka Shing Building',\n 'MD1',\n 'MD10',\n 'MD11',\n 'MD2',\n 'MD3',\n 'MD4andMD4a',\n 'MD6',\n 'MD7',\n 'MD9',\n 'MM Building',\n 'NUS Centre of Arts',\n 'NUS Museum',\n 'OCS',\n 'OTH',\n 'PGPR',\n 'RC4',\n 'Raffles Hall',\n 'Ridge View',\n 'Ridge View Residence',\n 'S1',\n 'S10',\n 'S11',\n 'S12',\n 'S13',\n 'S14',\n 'S15',\n 'S16',\n 'S17',\n 'S2',\n 'S2S',\n 'S3',\n 'S4',\n 'S4A',\n 'S5',\n 'S6',\n 'S7',\n 'S8',\n 'SRC',\n 'SSLS',\n 'Sheares Hall',\n 'Sports and Recreation Center',\n 'T-Lab',\n 'Temasek Hall',\n 'Tembusu',\n 'Tower Block',\n 'UHC',\n 'University Hall',\n 'Ventus',\n 'Yong Siew Toh Conservatory of Music',\n 'Yusoff Ishak House']"
      ]
     },
     "execution_count": 3,
     "metadata": {},
     "output_type": "execute_result"
    }
   ],
   "source": [
    "to_load_file = open('source/other_data/group2_bldg_list.pickle', 'rb')\n",
    "group2_bldgs = pickle.load(to_load_file)\n",
    "group2_bldgs.sort()\n",
    "group2_bldgs"
   ]
  },
  {
   "cell_type": "markdown",
   "metadata": {},
   "source": [
    "## Transform the data"
   ]
  },
  {
   "cell_type": "code",
   "execution_count": 4,
   "metadata": {},
   "outputs": [
    {
     "data": {
      "text/plain": [
       "True"
      ]
     },
     "execution_count": 4,
     "metadata": {},
     "output_type": "execute_result"
    }
   ],
   "source": [
    "# Transform the csv file for each group 1 & 2 building performing differencing and aggregation.\n",
    "mu.process_PWM_data_by_bldg(group1_bldgs + group2_bldgs)"
   ]
  },
  {
   "cell_type": "code",
   "execution_count": 5,
   "metadata": {},
   "outputs": [],
   "source": []
  }
 ],
 "metadata": {
  "kernelspec": {
   "display_name": "Python 2",
   "language": "python",
   "name": "python2"
  },
  "language_info": {
   "codemirror_mode": {
    "name": "ipython",
    "version": 2
   },
   "file_extension": ".py",
   "mimetype": "text/x-python",
   "name": "python",
   "nbconvert_exporter": "python",
   "pygments_lexer": "ipython2",
   "version": "2.7.6"
  }
 },
 "nbformat": 4,
 "nbformat_minor": 0
}
